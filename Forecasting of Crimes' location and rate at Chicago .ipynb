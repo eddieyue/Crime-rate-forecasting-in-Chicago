{
 "cells": [
  {
   "cell_type": "markdown",
   "metadata": {},
   "source": [
    "# Import Modules and Crime dataset from API"
   ]
  },
  {
   "cell_type": "code",
   "execution_count": 1,
   "metadata": {
    "collapsed": false
   },
   "outputs": [],
   "source": [
    "import DAL\n",
    "import numpy as np\n",
    "DAL.cleancache()\n",
    "crime = DAL.create(\"crime\")\n",
    "crime_list = crime.get_crime_list()\n",
    "crime_counts = crime.get_crime_counts()\n",
    "region_lists = crime.get_region_list()"
   ]
  },
  {
   "cell_type": "markdown",
   "metadata": {},
   "source": [
    "# Definite the kernel function for different kernel estimator"
   ]
  },
  {
   "cell_type": "code",
   "execution_count": 2,
   "metadata": {
    "collapsed": false
   },
   "outputs": [],
   "source": [
    "\n",
    "def kernel_space(x,h,n):\n",
    "    import numpy as np\n",
    "    import math\n",
    "    def I(x):\n",
    "        import numpy as np\n",
    "        result = np.zeros(len(x))\n",
    "        result[np.apply_along_axis(np.linalg.norm, 1, x) <= h] = 1\n",
    "        return result\n",
    "    if n == 0:\n",
    "        temp = 0.5*I(x)\n",
    "        result = temp/np.sum(temp) \n",
    "        index = result != 0\n",
    "        return (result, index)\n",
    "    \n",
    "    elif n == 1:\n",
    "        temp = 1/np.sqrt(2*math.pi)*np.exp(-0.5*np.apply_along_axis(np.linalg.norm, 1, x/h)**2)\n",
    "        result = temp/np.sum(temp)\n",
    "        index = result >= 1e-5\n",
    "        return (result, index)\n",
    "    \n",
    "    elif n == 2:\n",
    "        temp = 0.75*(1-np.apply_along_axis(np.linalg.norm, 1, x/h)**2)*I(x)\n",
    "        result = temp/np.sum(temp)\n",
    "        index = result != 0        \n",
    "        return (result, index)\n",
    "    "
   ]
  },
  {
   "cell_type": "markdown",
   "metadata": {},
   "source": [
    "# For this question, I choose Epanechnikov kernel as the kernel function I would use in the following steps and I would test for the bandwith of space in the range [0,001, 0,005, 0.01, 0.05, 0.1] and for the bandwith of time I would try [4,6,8]. In addtion I would choose the last 8 weeks as the held-out data to check my appropriaty of the bandwithes I choose. "
   ]
  },
  {
   "cell_type": "markdown",
   "metadata": {},
   "source": [
    "# Build up the time and space weight function "
   ]
  },
  {
   "cell_type": "code",
   "execution_count": 4,
   "metadata": {
    "collapsed": false
   },
   "outputs": [],
   "source": [
    "def time_weight(n, h):\n",
    "    import numpy as np\n",
    "    time_list  = np.arange(698)\n",
    "    result = np.zeros(2*n)\n",
    "    sample_index = range(110,120)\n",
    "    h = float(h)\n",
    "    for i in sample_index:\n",
    "        timei = time_list[i]\n",
    "        time_temp = time_list[i-n:i+n] \n",
    "        x = time_temp - timei\n",
    "        temp_coef = 0.75*(1-((x)/h)**2)\n",
    "        result += temp_coef\n",
    "    result[:n] = 0    \n",
    "    weight_time = (result/10)/np.sum(result/10)\n",
    "    return weight_time\n",
    "\n"
   ]
  },
  {
   "cell_type": "code",
   "execution_count": 5,
   "metadata": {
    "collapsed": false
   },
   "outputs": [],
   "source": [
    "def space_weight(n, h):\n",
    "    import DAL\n",
    "    import numpy as np\n",
    "    crime = DAL.create(\"crime\")\n",
    "    region_lists = crime.get_region_list()\n",
    "    center_list = np.array([np.array(region_lists[i]) for i in range(2985)])\n",
    "    h = float(h)\n",
    "    result = np.zeros(2*n)\n",
    "    sample_index = range(1000,1010)\n",
    "    for i in sample_index:\n",
    "        centeri = center_list[i]\n",
    "        center_temp = center_list[i-n:i+n] \n",
    "        x = center_temp - centeri\n",
    "        temp_coef = 0.75*(1-np.apply_along_axis(np.linalg.norm, 1, x/h)**2)\n",
    "        result += temp_coef\n",
    "    weight_space = (result/10)/np.sum(result/10)\n",
    "    weight_space[weight_space <= 0] = 0 \n",
    "    weight_space = (weight_space)/np.sum(weight_space)\n",
    "    return weight_space\n",
    "\n"
   ]
  },
  {
   "cell_type": "markdown",
   "metadata": {},
   "source": [
    "# Build up the function to compute the log-likelihood function"
   ]
  },
  {
   "cell_type": "code",
   "execution_count": 6,
   "metadata": {
    "collapsed": false
   },
   "outputs": [],
   "source": [
    "def log_like(rambda,data):\n",
    "    import math\n",
    "    l = 0\n",
    "    for k in range(10):\n",
    "        for i in range(2985):\n",
    "            test_data = np.sum(data[(i,k)][690:])\n",
    "            try:\n",
    "                l += test_data*math.log(rambda[k][i])-rambda[k][i]\n",
    "            except ValueError:\n",
    "                pass \n",
    "    return l         "
   ]
  },
  {
   "cell_type": "markdown",
   "metadata": {},
   "source": [
    "# Experiment with diffent set of gamma and sigma and choose the combination with the maximum value of log-likelihood function"
   ]
  },
  {
   "cell_type": "code",
   "execution_count": 7,
   "metadata": {
    "collapsed": false
   },
   "outputs": [
    {
     "name": "stdout",
     "output_type": "stream",
     "text": [
      "when the bandwith of time is 4 and the bandwith of space is 0.001, then the log-likelihood value is -4790498.97609\n",
      "when the bandwith of time is 6 and the bandwith of space is 0.001, then the log-likelihood value is -4790500.72291\n",
      "when the bandwith of time is 8 and the bandwith of space is 0.001, then the log-likelihood value is -4790501.33388\n",
      "when the bandwith of time is 4 and the bandwith of space is 0.005, then the log-likelihood value is -4790498.88774\n",
      "when the bandwith of time is 6 and the bandwith of space is 0.005, then the log-likelihood value is -4790500.63456\n",
      "when the bandwith of time is 8 and the bandwith of space is 0.005, then the log-likelihood value is -4790501.24554\n",
      "when the bandwith of time is 4 and the bandwith of space is 0.01, then the log-likelihood value is -4790498.61165\n",
      "when the bandwith of time is 6 and the bandwith of space is 0.01, then the log-likelihood value is -4790500.35847\n",
      "when the bandwith of time is 8 and the bandwith of space is 0.01, then the log-likelihood value is -4790500.96944\n",
      "when the bandwith of time is 4 and the bandwith of space is 0.05, then the log-likelihood value is -4790489.76351\n",
      "when the bandwith of time is 6 and the bandwith of space is 0.05, then the log-likelihood value is -4790491.51033\n",
      "when the bandwith of time is 8 and the bandwith of space is 0.05, then the log-likelihood value is -4790492.12131\n",
      "when the bandwith of time is 4 and the bandwith of space is 0.1, then the log-likelihood value is -4790461.94785\n",
      "when the bandwith of time is 6 and the bandwith of space is 0.1, then the log-likelihood value is -4790463.69467\n",
      "when the bandwith of time is 8 and the bandwith of space is 0.1, then the log-likelihood value is -4790464.30565\n"
     ]
    }
   ],
   "source": [
    "\n",
    "gamma = [0.001, 0.005, 0.01, 0.05, 0.1]\n",
    "sigma = [4,6,8]\n",
    "\n",
    "for hs in gamma:\n",
    "    for ht in sigma:\n",
    "        weight_time = time_weight(3,hs)\n",
    "        weight_sapce = space_weight(5,ht)\n",
    "        rambda = []\n",
    "        for k in range(10):\n",
    "            temp_y = np.zeros(2985)\n",
    "            for i in range(2985):\n",
    "                temp_data = crime_counts[(i,k)][:690]\n",
    "                temp_re = np.convolve(temp_data, weight_time[::-1], \"same\")\n",
    "                temp_re[:3] = np.mean(temp_re[3:(2985-1-3)])\n",
    "                temp_re[(2985-3-1):] = np.mean(temp_re[3:(2985-1-3)])\n",
    "                temp_y[i] = np.sum(temp_re)\n",
    "            temp_rambda = np.convolve(temp_y, weight_sapce[::-1], \"same\") \n",
    "            temp_rambda[:5] = np.mean(temp_rambda[5:(2985-1-5)])\n",
    "            temp_rambda[(2985-1-5):] = np.mean(temp_rambda[5:(2985-1-5)])    \n",
    "            rambda.append(temp_rambda)\n",
    "        l = log_like(rambda,crime_counts)    \n",
    "        print \"when the bandwith of time is \" + str(ht) + \" and the bandwith of space is \" + str(hs) + \", then the log-likelihood value is \" + str(l) "
   ]
  },
  {
   "cell_type": "markdown",
   "metadata": {},
   "source": [
    "# From the outcomes above, it is easy to choose the combination of bandwith is time for 4 and space for 0.1. Then I would generate the file of the estimate rate for different type of crimes "
   ]
  },
  {
   "cell_type": "code",
   "execution_count": 8,
   "metadata": {
    "collapsed": false
   },
   "outputs": [],
   "source": [
    "ht = 0.1\n",
    "hs = 4.0 \n",
    "weight_time = time_weight(3,hs)\n",
    "weight_sapce = space_weight(5,ht)\n",
    "for k in range(10):\n",
    "    temp_y = np.zeros(2985)\n",
    "    for i in range(2985):\n",
    "        temp_data = crime_counts[(i,k)][:690]\n",
    "        temp_re = np.convolve(temp_data, weight_time[::-1], \"same\")\n",
    "        temp_re[:3] = np.mean(temp_re[3:(2985-1-3)])\n",
    "        temp_re[(2985-3-1):] = np.mean(temp_re[3:(2985-1-3)])\n",
    "        temp_y[i] = np.sum(temp_re)\n",
    "        temp_rambda = np.convolve(temp_y, weight_sapce[::-1], \"same\") \n",
    "        temp_rambda[:5] = np.mean(temp_rambda[5:(2985-1-5)])\n",
    "        temp_rambda[(2985-1-5):] = np.mean(temp_rambda[5:(2985-1-5)])    \n",
    "        rambda.append(temp_rambda)"
   ]
  },
  {
   "cell_type": "markdown",
   "metadata": {},
   "source": [
    "# Save our result into disk"
   ]
  },
  {
   "cell_type": "code",
   "execution_count": 13,
   "metadata": {
    "collapsed": false
   },
   "outputs": [],
   "source": [
    "my_crime_list = ['assult', 'battery', 'burglary', 'criminal-damage', 'deceptive-practice', 'motor-vehicle-theft', 'narcotics', 'other-offense', 'robbery', 'theft']\n",
    "\n",
    "for k in range(10):\n",
    "    crime_type = my_crime_list[k]\n",
    "    result = rambda[k]\n",
    "    with open(\"/home/edyue/%s.txt\"%crime_type, \"w\") as fp:\n",
    "        for i in range(2985):\n",
    "            fp.write(str(i) + \", \" + str(result[i]/10) + \"\\n\")\n",
    "            \n",
    "            "
   ]
  }
 ],
 "metadata": {
  "kernelspec": {
   "display_name": "Python 2",
   "language": "python",
   "name": "python2"
  },
  "language_info": {
   "codemirror_mode": {
    "name": "ipython",
    "version": 2
   },
   "file_extension": ".py",
   "mimetype": "text/x-python",
   "name": "python",
   "nbconvert_exporter": "python",
   "pygments_lexer": "ipython2",
   "version": "2.7.8"
  }
 },
 "nbformat": 4,
 "nbformat_minor": 0
}
